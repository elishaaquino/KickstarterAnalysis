{
  "nbformat": 4,
  "nbformat_minor": 0,
  "metadata": {
    "colab": {
      "name": "Machine Learning",
      "provenance": [],
      "collapsed_sections": [],
      "machine_shape": "hm",
      "authorship_tag": "ABX9TyNeae5vC2/x4nIR2/Hi8ssX",
      "include_colab_link": true
    },
    "kernelspec": {
      "name": "python3",
      "display_name": "Python 3"
    }
  },
  "cells": [
    {
      "cell_type": "markdown",
      "metadata": {
        "id": "view-in-github",
        "colab_type": "text"
      },
      "source": [
        "<a href=\"https://colab.research.google.com/github/elishaaquino/KickstarterAnalysis/blob/master/Machine_Learning.ipynb\" target=\"_parent\"><img src=\"https://colab.research.google.com/assets/colab-badge.svg\" alt=\"Open In Colab\"/></a>"
      ]
    },
    {
      "cell_type": "markdown",
      "metadata": {
        "id": "1V2L2auyWPv6",
        "colab_type": "text"
      },
      "source": [
        "# **Predicting Success from Past Projects**"
      ]
    },
    {
      "cell_type": "code",
      "metadata": {
        "id": "bIikYYp4TfnR",
        "colab_type": "code",
        "colab": {}
      },
      "source": [
        "import pandas as pd\n",
        "from sklearn.feature_extraction.text import TfidfVectorizer\n",
        "from sklearn.compose import make_column_transformer\n",
        "from sklearn.model_selection import cross_val_score\n",
        "from sklearn.preprocessing import OneHotEncoder, StandardScaler, MaxAbsScaler, Normalizer\n",
        "from sklearn.pipeline import make_pipeline\n",
        "from sklearn.neighbors import KNeighborsClassifier\n",
        "from sklearn.neural_network import MLPClassifier\n",
        "from sklearn.svm import SVC\n",
        "from sklearn.gaussian_process.kernels import RBF\n",
        "from sklearn.tree import DecisionTreeClassifier\n",
        "from sklearn.ensemble import RandomForestClassifier, AdaBoostClassifier\n",
        "from sklearn.naive_bayes import GaussianNB\n",
        "from sklearn.discriminant_analysis import QuadraticDiscriminantAnalysis\n",
        "from sklearn.model_selection import GridSearchCV"
      ],
      "execution_count": 0,
      "outputs": []
    },
    {
      "cell_type": "markdown",
      "metadata": {
        "id": "jIH2VTnN0qgS",
        "colab_type": "text"
      },
      "source": [
        "## **Finding a Good Model and Tuning Parameters**"
      ]
    },
    {
      "cell_type": "code",
      "metadata": {
        "id": "TvrOoOgxbGcg",
        "colab_type": "code",
        "colab": {}
      },
      "source": [
        "df_projects = pd.read_csv(\n",
        "    \"/content/pastProjects.csv\",\n",
        "    index_col=0)\n",
        "df_projects = df_projects[df_projects[\"state\"] != \"live\"]\n",
        "df_projects.reset_index(inplace=True)\n",
        "\n",
        "df_projects[\"state\"].replace(\"canceled\", \"failed\", inplace=True)\n",
        "df_projects[\"state\"].replace(\"suspended\", \"failed\", inplace=True)\n",
        "\n",
        "X_train = df_projects[[\"goal\", \"Parent Category\"]]\n",
        "y_train = df_projects[\"state\"]"
      ],
      "execution_count": 0,
      "outputs": []
    },
    {
      "cell_type": "code",
      "metadata": {
        "id": "wgDvR4InZIS8",
        "colab_type": "code",
        "outputId": "aa78b0c2-07c7-43c4-bdde-ac1f43106844",
        "colab": {
          "base_uri": "https://localhost:8080/",
          "height": 849
        }
      },
      "source": [
        "classifiers = [\n",
        "    KNeighborsClassifier(10),\n",
        "    SVC(kernel=\"linear\", C=0.025),\n",
        "    SVC(gamma=2, C=1),\n",
        "    DecisionTreeClassifier(max_depth=5),\n",
        "    RandomForestClassifier(max_depth=5, n_estimators=10, max_features=1),\n",
        "    MLPClassifier(alpha=1, max_iter=1000),\n",
        "    AdaBoostClassifier(),\n",
        "    GaussianNB(),\n",
        "    QuadraticDiscriminantAnalysis()]\n",
        "\n",
        "ct = make_column_transformer(\n",
        "      (OneHotEncoder(), [\"Parent Category\"]),\n",
        "      remainder=\"passthrough\"  \n",
        "    )\n",
        "\n",
        "from sklearn.preprocessing import FunctionTransformer\n",
        "c = 0\n",
        "for classifier in classifiers:\n",
        "  model = make_pipeline(\n",
        "      ct,\n",
        "      StandardScaler(with_mean=False),\n",
        "      classifier\n",
        "  )\n",
        "  if c > 6:\n",
        "    model = make_pipeline(\n",
        "      ct,\n",
        "      StandardScaler(with_mean=False),\n",
        "      FunctionTransformer(lambda x: x.todense(), accept_sparse=True),\n",
        "      classifier\n",
        "    )\n",
        "  c+=1\n",
        "  print(cross_val_score(model, X=X_train, y=y_train, cv=5,\n",
        "                           scoring=\"f1_macro\").mean(), str(classifier))\n"
      ],
      "execution_count": 0,
      "outputs": [
        {
          "output_type": "stream",
          "text": [
            "0.6252948222773315 KNeighborsClassifier(algorithm='auto', leaf_size=30, metric='minkowski',\n",
            "                     metric_params=None, n_jobs=None, n_neighbors=10, p=2,\n",
            "                     weights='uniform')\n",
            "0.590841363265522 SVC(C=0.025, break_ties=False, cache_size=200, class_weight=None, coef0=0.0,\n",
            "    decision_function_shape='ovr', degree=3, gamma='scale', kernel='linear',\n",
            "    max_iter=-1, probability=False, random_state=None, shrinking=True,\n",
            "    tol=0.001, verbose=False)\n",
            "0.5976374832357292 SVC(C=1, break_ties=False, cache_size=200, class_weight=None, coef0=0.0,\n",
            "    decision_function_shape='ovr', degree=3, gamma=2, kernel='rbf', max_iter=-1,\n",
            "    probability=False, random_state=None, shrinking=True, tol=0.001,\n",
            "    verbose=False)\n",
            "0.6268408588321848 DecisionTreeClassifier(ccp_alpha=0.0, class_weight=None, criterion='gini',\n",
            "                       max_depth=5, max_features=None, max_leaf_nodes=None,\n",
            "                       min_impurity_decrease=0.0, min_impurity_split=None,\n",
            "                       min_samples_leaf=1, min_samples_split=2,\n",
            "                       min_weight_fraction_leaf=0.0, presort='deprecated',\n",
            "                       random_state=None, splitter='best')\n",
            "0.5631768306387677 RandomForestClassifier(bootstrap=True, ccp_alpha=0.0, class_weight=None,\n",
            "                       criterion='gini', max_depth=5, max_features=1,\n",
            "                       max_leaf_nodes=None, max_samples=None,\n",
            "                       min_impurity_decrease=0.0, min_impurity_split=None,\n",
            "                       min_samples_leaf=1, min_samples_split=2,\n",
            "                       min_weight_fraction_leaf=0.0, n_estimators=10,\n",
            "                       n_jobs=None, oob_score=False, random_state=None,\n",
            "                       verbose=0, warm_start=False)\n",
            "0.5908940472863049 MLPClassifier(activation='relu', alpha=1, batch_size='auto', beta_1=0.9,\n",
            "              beta_2=0.999, early_stopping=False, epsilon=1e-08,\n",
            "              hidden_layer_sizes=(100,), learning_rate='constant',\n",
            "              learning_rate_init=0.001, max_fun=15000, max_iter=1000,\n",
            "              momentum=0.9, n_iter_no_change=10, nesterovs_momentum=True,\n",
            "              power_t=0.5, random_state=None, shuffle=True, solver='adam',\n",
            "              tol=0.0001, validation_fraction=0.1, verbose=False,\n",
            "              warm_start=False)\n",
            "0.6357177025635042 AdaBoostClassifier(algorithm='SAMME.R', base_estimator=None, learning_rate=1.0,\n",
            "                   n_estimators=50, random_state=None)\n",
            "0.5888133385879005 GaussianNB(priors=None, var_smoothing=1e-09)\n"
          ],
          "name": "stdout"
        },
        {
          "output_type": "stream",
          "text": [
            "/usr/local/lib/python3.6/dist-packages/sklearn/discriminant_analysis.py:691: UserWarning: Variables are collinear\n",
            "  warnings.warn(\"Variables are collinear\")\n",
            "/usr/local/lib/python3.6/dist-packages/sklearn/discriminant_analysis.py:691: UserWarning: Variables are collinear\n",
            "  warnings.warn(\"Variables are collinear\")\n",
            "/usr/local/lib/python3.6/dist-packages/sklearn/discriminant_analysis.py:691: UserWarning: Variables are collinear\n",
            "  warnings.warn(\"Variables are collinear\")\n",
            "/usr/local/lib/python3.6/dist-packages/sklearn/discriminant_analysis.py:691: UserWarning: Variables are collinear\n",
            "  warnings.warn(\"Variables are collinear\")\n"
          ],
          "name": "stderr"
        },
        {
          "output_type": "stream",
          "text": [
            "0.5644454427187207 QuadraticDiscriminantAnalysis(priors=None, reg_param=0.0,\n",
            "                              store_covariance=False, tol=0.0001)\n"
          ],
          "name": "stdout"
        },
        {
          "output_type": "stream",
          "text": [
            "/usr/local/lib/python3.6/dist-packages/sklearn/discriminant_analysis.py:691: UserWarning: Variables are collinear\n",
            "  warnings.warn(\"Variables are collinear\")\n"
          ],
          "name": "stderr"
        }
      ]
    },
    {
      "cell_type": "markdown",
      "metadata": {
        "id": "PvEFs-aoI89D",
        "colab_type": "text"
      },
      "source": [
        "**It seems that the best model for prediction is Ada Boost Classifier, KNeighbors Classifier, and Decision Tree Classifier.**"
      ]
    },
    {
      "cell_type": "markdown",
      "metadata": {
        "id": "fK5lQdGP0hUH",
        "colab_type": "text"
      },
      "source": [
        "### Ada Boost Classifier"
      ]
    },
    {
      "cell_type": "code",
      "metadata": {
        "id": "Hi6e84L70gTB",
        "colab_type": "code",
        "colab": {}
      },
      "source": [
        "def get_cv_error(features):\n",
        "  ct = make_column_transformer(\n",
        "      (OneHotEncoder(), [\"Parent Category\"]),\n",
        "      remainder=\"passthrough\"  \n",
        "    )\n",
        "  if \"blurb\" in features:\n",
        "    ct = make_column_transformer(\n",
        "      (TfidfVectorizer(norm=None, max_features=10), \"blurb\"),\n",
        "      remainder=\"passthrough\"  \n",
        "    )\n",
        "  if \"blurb\" in features and \"country\" in features:\n",
        "    ct = make_column_transformer(\n",
        "      (TfidfVectorizer(norm=None, max_features=10), \"blurb\"),\n",
        "      (OneHotEncoder(), [\"country\"]),\n",
        "      remainder=\"passthrough\"  \n",
        "    )\n",
        "  if len(features) >= 3:\n",
        "    ct = make_column_transformer(\n",
        "        (OneHotEncoder(), features[2:]),\n",
        "        remainder=\"passthrough\"  \n",
        "      )\n",
        "  if len(features) >= 3 and \"blurb\" in features:\n",
        "    ct = make_column_transformer(\n",
        "        (TfidfVectorizer(norm=None, max_features=10), \"blurb\"),\n",
        "        (OneHotEncoder(), [\"Parent Category\"]),\n",
        "        remainder=\"passthrough\"  \n",
        "      )\n",
        "  model = make_pipeline(\n",
        "    ct,\n",
        "    StandardScaler(with_mean=False),\n",
        "    AdaBoostClassifier()\n",
        "  )\n",
        "  if features[0] == \"goal\" and len(features) == 1:\n",
        "    model = make_pipeline(\n",
        "    StandardScaler(with_mean=False),\n",
        "    AdaBoostClassifier()\n",
        "  )\n",
        "\n",
        "  cv_errs = cross_val_score(model, X=df_projects[features], \n",
        "                            y=y_train,\n",
        "                            scoring=\"f1_macro\", cv=10)\n",
        "\n",
        "  return cv_errs.mean()\n",
        "\n",
        "errs = pd.Series()\n",
        "for features in [[\"blurb\"],\n",
        "                 [\"blurb\", \"country\"],\n",
        "                 [\"blurb\", \"goal\"],\n",
        "                 [\"goal\"],\n",
        "                 [\"goal\", \"Parent Category\"],\n",
        "                 [\"goal\", \"Amount of Time Live\", \"Parent Category\"],\n",
        "                 [\"goal\", \"Amount of Time Live\", \"Parent Category\", \n",
        "                  \"staff_pick\"],\n",
        "                 [\"goal\", \"Amount of Time Live\", \"Parent Category\", \n",
        "                  \"staff_pick\", \"country\"],\n",
        "                 [\"goal\", \"Amount of Time Live\", \"Parent Category\",\n",
        "                  \"blurb\"]]:\n",
        "  errs[str(features)] = get_cv_error(features)"
      ],
      "execution_count": 0,
      "outputs": []
    },
    {
      "cell_type": "code",
      "metadata": {
        "id": "AwmWe6Qx07kO",
        "colab_type": "code",
        "outputId": "258ad712-adfd-4453-e64c-3de7363d67ef",
        "colab": {
          "base_uri": "https://localhost:8080/",
          "height": 191
        }
      },
      "source": [
        "errs"
      ],
      "execution_count": 0,
      "outputs": [
        {
          "output_type": "execute_result",
          "data": {
            "text/plain": [
              "['blurb']                                                                      0.500639\n",
              "['blurb', 'country']                                                           0.525202\n",
              "['blurb', 'goal']                                                              0.597568\n",
              "['goal']                                                                       0.567671\n",
              "['goal', 'Parent Category']                                                    0.631470\n",
              "['goal', 'Amount of Time Live', 'Parent Category']                             0.655444\n",
              "['goal', 'Amount of Time Live', 'Parent Category', 'staff_pick']               0.697752\n",
              "['goal', 'Amount of Time Live', 'Parent Category', 'staff_pick', 'country']    0.700191\n",
              "['goal', 'Amount of Time Live', 'Parent Category', 'blurb']                    0.663899\n",
              "dtype: float64"
            ]
          },
          "metadata": {
            "tags": []
          },
          "execution_count": 15
        }
      ]
    },
    {
      "cell_type": "markdown",
      "metadata": {
        "id": "clgJa4hh6KDY",
        "colab_type": "text"
      },
      "source": [
        "**The best features for the Ada Boost Classifier are ['goal', 'Amount of Time Live', 'Parent Category', 'staff_pick', 'country'].**"
      ]
    },
    {
      "cell_type": "markdown",
      "metadata": {
        "id": "I_HQn7iZJeMU",
        "colab_type": "text"
      },
      "source": [
        "### KNeighbors Classifier"
      ]
    },
    {
      "cell_type": "code",
      "metadata": {
        "id": "kTivxJ40Jk9q",
        "colab_type": "code",
        "colab": {}
      },
      "source": [
        "def get_cv_error(features):\n",
        "  ct = make_column_transformer(\n",
        "      (OneHotEncoder(), [\"Parent Category\"]),\n",
        "      remainder=\"passthrough\"  \n",
        "    )\n",
        "  if \"blurb\" in features:\n",
        "    ct = make_column_transformer(\n",
        "      (TfidfVectorizer(norm=None, max_features=10), \"blurb\"),\n",
        "      remainder=\"passthrough\"  \n",
        "    )\n",
        "  if \"blurb\" in features and \"country\" in features:\n",
        "    ct = make_column_transformer(\n",
        "      (TfidfVectorizer(norm=None, max_features=10), \"blurb\"),\n",
        "      (OneHotEncoder(), [\"country\"]),\n",
        "      remainder=\"passthrough\"  \n",
        "    )\n",
        "  if len(features) >= 3:\n",
        "    ct = make_column_transformer(\n",
        "        (OneHotEncoder(), features[2:]),\n",
        "        remainder=\"passthrough\"  \n",
        "      )\n",
        "  if len(features) >= 3 and \"blurb\" in features:\n",
        "    ct = make_column_transformer(\n",
        "        (TfidfVectorizer(norm=None, max_features=10), \"blurb\"),\n",
        "        (OneHotEncoder(), [\"Parent Category\"]),\n",
        "        remainder=\"passthrough\"  \n",
        "      )\n",
        "  model = make_pipeline(\n",
        "    ct,\n",
        "    StandardScaler(with_mean=False),\n",
        "    KNeighborsClassifier(10)\n",
        "  )\n",
        "  if features[0] == \"goal\" and len(features) == 1:\n",
        "    model = make_pipeline(\n",
        "    StandardScaler(with_mean=False),\n",
        "    KNeighborsClassifier(10)\n",
        "  )\n",
        "\n",
        "  cv_errs = cross_val_score(model, X=df_projects[features], \n",
        "                            y=y_train,\n",
        "                            scoring=\"f1_macro\", cv=10)\n",
        "\n",
        "  return cv_errs.mean()\n",
        "\n",
        "errs = pd.Series()\n",
        "for features in [[\"blurb\"],\n",
        "                 [\"blurb\", \"country\"],\n",
        "                 [\"blurb\", \"goal\"],\n",
        "                 [\"goal\"],\n",
        "                 [\"goal\", \"Parent Category\"],\n",
        "                 [\"goal\", \"Amount of Time Live\", \"Parent Category\"],\n",
        "                 [\"goal\", \"Amount of Time Live\", \"Parent Category\", \n",
        "                  \"staff_pick\"],\n",
        "                 [\"goal\", \"Amount of Time Live\", \"Parent Category\", \n",
        "                  \"staff_pick\", \"country\"],\n",
        "                 [\"goal\", \"Amount of Time Live\", \"Parent Category\",\n",
        "                  \"blurb\"]]:\n",
        "  errs[str(features)] = get_cv_error(features)"
      ],
      "execution_count": 0,
      "outputs": []
    },
    {
      "cell_type": "code",
      "metadata": {
        "id": "OkvXsPF0KVpt",
        "colab_type": "code",
        "outputId": "dcc787b9-7ee5-4865-e53a-4b2912913e2d",
        "colab": {
          "base_uri": "https://localhost:8080/",
          "height": 191
        }
      },
      "source": [
        "errs"
      ],
      "execution_count": 0,
      "outputs": [
        {
          "output_type": "execute_result",
          "data": {
            "text/plain": [
              "['blurb']                                                                      0.534344\n",
              "['blurb', 'country']                                                           0.539241\n",
              "['blurb', 'goal']                                                              0.573363\n",
              "['goal']                                                                       0.565809\n",
              "['goal', 'Parent Category']                                                    0.619787\n",
              "['goal', 'Amount of Time Live', 'Parent Category']                             0.641554\n",
              "['goal', 'Amount of Time Live', 'Parent Category', 'staff_pick']               0.673478\n",
              "['goal', 'Amount of Time Live', 'Parent Category', 'staff_pick', 'country']    0.673808\n",
              "['goal', 'Amount of Time Live', 'Parent Category', 'blurb']                    0.616857\n",
              "dtype: float64"
            ]
          },
          "metadata": {
            "tags": []
          },
          "execution_count": 18
        }
      ]
    },
    {
      "cell_type": "code",
      "metadata": {
        "id": "LxB3GQLbppG9",
        "colab_type": "code",
        "colab": {}
      },
      "source": [
        "X_train = df_projects[['goal', 'Amount of Time Live', 'Parent Category',\n",
        "                       'staff_pick', 'country']]\n",
        "y_train = df_projects['state']\n",
        "\n",
        "ct = make_column_transformer(\n",
        "  (OneHotEncoder(), ['Parent Category',\n",
        "                       'staff_pick', 'country']),\n",
        "  remainder=\"passthrough\"  \n",
        ")\n",
        "model = make_pipeline(\n",
        "  ct,\n",
        "  StandardScaler(with_mean=False),\n",
        "  KNeighborsClassifier(10)\n",
        ")"
      ],
      "execution_count": 0,
      "outputs": []
    },
    {
      "cell_type": "code",
      "metadata": {
        "id": "mYqr5lGMpPwB",
        "colab_type": "code",
        "outputId": "32528b16-177d-4e26-ca68-74f57dbc630d",
        "colab": {
          "base_uri": "https://localhost:8080/",
          "height": 35
        }
      },
      "source": [
        "grid_search = GridSearchCV(\n",
        "    model,\n",
        "    param_grid={\"kneighborsclassifier__n_neighbors\": range(1, 20)},\n",
        "    scoring=\"f1_macro\",\n",
        "    cv=10\n",
        ")\n",
        "\n",
        "grid_search.fit(X_train, y_train)\n",
        "grid_search.best_params_"
      ],
      "execution_count": 0,
      "outputs": [
        {
          "output_type": "execute_result",
          "data": {
            "text/plain": [
              "{'kneighborsclassifier__n_neighbors': 18}"
            ]
          },
          "metadata": {
            "tags": []
          },
          "execution_count": 34
        }
      ]
    },
    {
      "cell_type": "code",
      "metadata": {
        "id": "l4quUCxsuJba",
        "colab_type": "code",
        "outputId": "0f1faac9-e711-4250-87df-b6fce2c1138d",
        "colab": {
          "base_uri": "https://localhost:8080/",
          "height": 35
        }
      },
      "source": [
        "ct = make_column_transformer(\n",
        "  (OneHotEncoder(), ['Parent Category',\n",
        "                       'staff_pick', 'country']),\n",
        "  remainder=\"passthrough\"  \n",
        ")\n",
        "model = make_pipeline(\n",
        "  ct,\n",
        "  StandardScaler(with_mean=False),\n",
        "  KNeighborsClassifier(18)\n",
        ")\n",
        "cross_val_score(model, X=X_train, \n",
        "                            y=y_train,\n",
        "                            scoring=\"f1_macro\", cv=10).mean()"
      ],
      "execution_count": 0,
      "outputs": [
        {
          "output_type": "execute_result",
          "data": {
            "text/plain": [
              "0.6782307246519049"
            ]
          },
          "metadata": {
            "tags": []
          },
          "execution_count": 37
        }
      ]
    },
    {
      "cell_type": "markdown",
      "metadata": {
        "id": "vN7ZgflH6Wir",
        "colab_type": "text"
      },
      "source": [
        "**The best features for the KNeighbors Classifier are ['goal', 'Amount of Time Live', 'Parent Category', 'staff_pick', 'country'] with k = 18.**"
      ]
    },
    {
      "cell_type": "markdown",
      "metadata": {
        "id": "9gjTZl681Hbo",
        "colab_type": "text"
      },
      "source": [
        "### Decision Tree Classifier"
      ]
    },
    {
      "cell_type": "code",
      "metadata": {
        "id": "HH4Y_c3c1MZR",
        "colab_type": "code",
        "colab": {}
      },
      "source": [
        "def get_cv_error(features):\n",
        "  ct = make_column_transformer(\n",
        "      (OneHotEncoder(), [\"Parent Category\"]),\n",
        "      remainder=\"passthrough\"  \n",
        "    )\n",
        "  if \"blurb\" in features:\n",
        "    ct = make_column_transformer(\n",
        "      (TfidfVectorizer(norm=None, max_features=10), \"blurb\"),\n",
        "      remainder=\"passthrough\"  \n",
        "    )\n",
        "  if \"blurb\" in features and \"country\" in features:\n",
        "    ct = make_column_transformer(\n",
        "      (TfidfVectorizer(norm=None, max_features=10), \"blurb\"),\n",
        "      (OneHotEncoder(), [\"country\"]),\n",
        "      remainder=\"passthrough\"  \n",
        "    )\n",
        "  if len(features) >= 3:\n",
        "    ct = make_column_transformer(\n",
        "        (OneHotEncoder(), features[2:]),\n",
        "        remainder=\"passthrough\"  \n",
        "      )\n",
        "  if len(features) >= 3 and \"blurb\" in features:\n",
        "    ct = make_column_transformer(\n",
        "        (TfidfVectorizer(norm=None, max_features=10), \"blurb\"),\n",
        "        (OneHotEncoder(), [\"Parent Category\"]),\n",
        "        remainder=\"passthrough\"  \n",
        "      )\n",
        "  model = make_pipeline(\n",
        "    ct,\n",
        "    StandardScaler(with_mean=False),\n",
        "    DecisionTreeClassifier(max_depth=5)\n",
        "  )\n",
        "  if features[0] == \"goal\" and len(features) == 1:\n",
        "    model = make_pipeline(\n",
        "    StandardScaler(with_mean=False),\n",
        "    DecisionTreeClassifier(max_depth=5)\n",
        "  )\n",
        "\n",
        "  cv_errs = cross_val_score(model, X=df_projects[features], \n",
        "                            y=y_train,\n",
        "                            scoring=\"f1_macro\", cv=10)\n",
        "\n",
        "  return cv_errs.mean()\n",
        "\n",
        "errs = pd.Series()\n",
        "for features in [[\"blurb\"],\n",
        "                 [\"blurb\", \"country\"],\n",
        "                 [\"blurb\", \"goal\"],\n",
        "                 [\"goal\"],\n",
        "                 [\"goal\", \"Parent Category\"],\n",
        "                 [\"goal\", \"Amount of Time Live\", \"Parent Category\"],\n",
        "                 [\"goal\", \"Amount of Time Live\", \"Parent Category\", \n",
        "                  \"staff_pick\"],\n",
        "                 [\"goal\", \"Amount of Time Live\", \"Parent Category\", \n",
        "                  \"staff_pick\", \"country\"],\n",
        "                 [\"goal\", \"Amount of Time Live\", \"Parent Category\",\n",
        "                  \"blurb\"]]:\n",
        "  errs[str(features)] = get_cv_error(features)"
      ],
      "execution_count": 0,
      "outputs": []
    },
    {
      "cell_type": "code",
      "metadata": {
        "id": "dOj9XJd01QcG",
        "colab_type": "code",
        "outputId": "e45cf304-3921-4806-9d7f-e3b39c480803",
        "colab": {
          "base_uri": "https://localhost:8080/",
          "height": 191
        }
      },
      "source": [
        "errs"
      ],
      "execution_count": 0,
      "outputs": [
        {
          "output_type": "execute_result",
          "data": {
            "text/plain": [
              "['blurb']                                                                      0.467923\n",
              "['blurb', 'country']                                                           0.477953\n",
              "['blurb', 'goal']                                                              0.585769\n",
              "['goal']                                                                       0.576818\n",
              "['goal', 'Parent Category']                                                    0.632335\n",
              "['goal', 'Amount of Time Live', 'Parent Category']                             0.638376\n",
              "['goal', 'Amount of Time Live', 'Parent Category', 'staff_pick']               0.667221\n",
              "['goal', 'Amount of Time Live', 'Parent Category', 'staff_pick', 'country']    0.666979\n",
              "['goal', 'Amount of Time Live', 'Parent Category', 'blurb']                    0.638782\n",
              "dtype: float64"
            ]
          },
          "metadata": {
            "tags": []
          },
          "execution_count": 39
        }
      ]
    },
    {
      "cell_type": "code",
      "metadata": {
        "id": "t-T6TlHMvDc_",
        "colab_type": "code",
        "colab": {}
      },
      "source": [
        "X_train = df_projects[['goal', 'Amount of Time Live', 'Parent Category',\n",
        "                       'staff_pick']]\n",
        "y_train = df_projects['state']\n",
        "\n",
        "ct = make_column_transformer(\n",
        "  (OneHotEncoder(), ['Parent Category',\n",
        "                       'staff_pick']),\n",
        "  remainder=\"passthrough\"  \n",
        ")\n",
        "model = make_pipeline(\n",
        "  ct,\n",
        "  StandardScaler(with_mean=False),\n",
        "  DecisionTreeClassifier(max_depth=5)\n",
        ")"
      ],
      "execution_count": 0,
      "outputs": []
    },
    {
      "cell_type": "code",
      "metadata": {
        "id": "LAnriN45vsO7",
        "colab_type": "code",
        "outputId": "44cfe7ac-c12e-439f-c17c-22080849f178",
        "colab": {
          "base_uri": "https://localhost:8080/",
          "height": 35
        }
      },
      "source": [
        "grid_search = GridSearchCV(\n",
        "    model,\n",
        "    param_grid={\"decisiontreeclassifier__max_depth\": range(1, 20)},\n",
        "    scoring=\"f1_macro\",\n",
        "    cv=10\n",
        ")\n",
        "\n",
        "grid_search.fit(X_train, y_train)\n",
        "grid_search.best_params_"
      ],
      "execution_count": 0,
      "outputs": [
        {
          "output_type": "execute_result",
          "data": {
            "text/plain": [
              "{'decisiontreeclassifier__max_depth': 15}"
            ]
          },
          "metadata": {
            "tags": []
          },
          "execution_count": 43
        }
      ]
    },
    {
      "cell_type": "code",
      "metadata": {
        "id": "Bto00pNWwJYH",
        "colab_type": "code",
        "outputId": "651eb7f7-374a-4c3a-b830-373208d08e36",
        "colab": {
          "base_uri": "https://localhost:8080/",
          "height": 35
        }
      },
      "source": [
        "ct = make_column_transformer(\n",
        "  (OneHotEncoder(), ['Parent Category',\n",
        "                       'staff_pick']),\n",
        "  remainder=\"passthrough\"  \n",
        ")\n",
        "model = make_pipeline(\n",
        "  ct,\n",
        "  StandardScaler(with_mean=False),\n",
        "  DecisionTreeClassifier(max_depth=15)\n",
        ")\n",
        "\n",
        "cross_val_score(model, X=X_train, \n",
        "                            y=y_train,\n",
        "                            scoring=\"f1_macro\", cv=10).mean()"
      ],
      "execution_count": 0,
      "outputs": [
        {
          "output_type": "execute_result",
          "data": {
            "text/plain": [
              "0.6879193388110117"
            ]
          },
          "metadata": {
            "tags": []
          },
          "execution_count": 44
        }
      ]
    },
    {
      "cell_type": "markdown",
      "metadata": {
        "id": "rLBbvEaP6j3X",
        "colab_type": "text"
      },
      "source": [
        "**The best features for the Decision Tree Classifier are ['goal', 'Amount of Time Live', 'Parent Category', 'staff_pick'] with max depth = 15.**"
      ]
    },
    {
      "cell_type": "markdown",
      "metadata": {
        "id": "2MsVSpmWwYzc",
        "colab_type": "text"
      },
      "source": [
        "## **Testing with other past projects to get test error**"
      ]
    },
    {
      "cell_type": "markdown",
      "metadata": {
        "id": "fJ8rS-bL0hiV",
        "colab_type": "text"
      },
      "source": [
        "### Ada Boost Classifier"
      ]
    },
    {
      "cell_type": "code",
      "metadata": {
        "id": "-puBvWhTHRSX",
        "colab_type": "code",
        "colab": {}
      },
      "source": [
        "df_test = pd.read_csv(\"/content/testProjects.csv\")\n",
        "df_test = df_test[df_test[\"state\"] != \"live\"]\n",
        "df_test.reset_index(inplace=True)\n",
        "\n",
        "df_test[\"state\"].replace(\"canceled\", \"failed\", inplace=True)\n",
        "df_test[\"state\"].replace(\"suspended\", \"failed\", inplace=True)"
      ],
      "execution_count": 0,
      "outputs": []
    },
    {
      "cell_type": "code",
      "metadata": {
        "id": "1EbDMtzTFFlF",
        "colab_type": "code",
        "colab": {}
      },
      "source": [
        "features = ['goal', 'Amount of Time Live', 'Parent Category',\n",
        "                       'staff_pick', 'country']\n",
        "X_train = df_projects[features]\n",
        "y_train = df_projects['state']\n",
        "X_test = df_test[features]\n",
        "\n",
        "ct = make_column_transformer(\n",
        "        (OneHotEncoder(), ['Parent Category', 'staff_pick', 'country']),\n",
        "        remainder=\"passthrough\"  \n",
        "      )\n",
        "adaboost_model = make_pipeline(\n",
        "            ct,\n",
        "            StandardScaler(with_mean=False),\n",
        "            AdaBoostClassifier()\n",
        "          )\n",
        "\n",
        "adaboost_model.fit(X=X_train, y=y_train)\n",
        "y_test = adaboost_model.predict(X_test)"
      ],
      "execution_count": 0,
      "outputs": []
    },
    {
      "cell_type": "code",
      "metadata": {
        "id": "4DXk4a0YkAdI",
        "colab_type": "code",
        "colab": {}
      },
      "source": [
        "df_results = pd.DataFrame({\"y_test\":y_test, \"y_actual\": df_test[\"state\"]})"
      ],
      "execution_count": 0,
      "outputs": []
    },
    {
      "cell_type": "code",
      "metadata": {
        "id": "TIRDL3k4xYCQ",
        "colab_type": "code",
        "outputId": "16636e3b-4ea5-42d5-a9af-cdbe42844929",
        "colab": {
          "base_uri": "https://localhost:8080/",
          "height": 35
        }
      },
      "source": [
        "from sklearn.metrics import precision_score, recall_score\n",
        "\n",
        "(precision_score(y_test, df_test[\"state\"], pos_label='successful'),\n",
        " recall_score(y_test, df_test[\"state\"], pos_label='successful'))"
      ],
      "execution_count": 0,
      "outputs": [
        {
          "output_type": "execute_result",
          "data": {
            "text/plain": [
              "(0.8189539561913277, 0.7739754964089565)"
            ]
          },
          "metadata": {
            "tags": []
          },
          "execution_count": 55
        }
      ]
    },
    {
      "cell_type": "code",
      "metadata": {
        "id": "7oJgjLKa0G9V",
        "colab_type": "code",
        "outputId": "7ebea16d-e9b0-42e4-ea5c-9e093123516d",
        "colab": {
          "base_uri": "https://localhost:8080/",
          "height": 35
        }
      },
      "source": [
        "(precision_score(y_test, df_test[\"state\"], pos_label='failed'),\n",
        " recall_score(y_test, df_test[\"state\"], pos_label='failed'))"
      ],
      "execution_count": 0,
      "outputs": [
        {
          "output_type": "execute_result",
          "data": {
            "text/plain": [
              "(0.6071953010279001, 0.6712662337662337)"
            ]
          },
          "metadata": {
            "tags": []
          },
          "execution_count": 56
        }
      ]
    },
    {
      "cell_type": "markdown",
      "metadata": {
        "id": "e_hFMs8v07eN",
        "colab_type": "text"
      },
      "source": [
        "### KNeighbors Classifier"
      ]
    },
    {
      "cell_type": "code",
      "metadata": {
        "id": "QPpAzBlp1RRR",
        "colab_type": "code",
        "colab": {}
      },
      "source": [
        "ct = make_column_transformer(\n",
        "        (OneHotEncoder(), ['Parent Category', 'staff_pick', 'country']),\n",
        "        remainder=\"passthrough\"  \n",
        "      )\n",
        "kneighbor_model = make_pipeline(\n",
        "            ct,\n",
        "            StandardScaler(with_mean=False),\n",
        "            KNeighborsClassifier(18)\n",
        "          )\n",
        "\n",
        "kneighbor_model.fit(X=X_train, y=y_train)\n",
        "y_test = kneighbor_model.predict(X_test)"
      ],
      "execution_count": 0,
      "outputs": []
    },
    {
      "cell_type": "code",
      "metadata": {
        "id": "RqaGZwBu3cuo",
        "colab_type": "code",
        "colab": {}
      },
      "source": [
        "df_results = pd.DataFrame({\"y_test\":y_test, \"y_actual\": df_test[\"state\"]})"
      ],
      "execution_count": 0,
      "outputs": []
    },
    {
      "cell_type": "code",
      "metadata": {
        "id": "oOJQQh0u3fi7",
        "colab_type": "code",
        "outputId": "a24ada68-f416-4032-9a37-5300c5e5f9fc",
        "colab": {
          "base_uri": "https://localhost:8080/",
          "height": 35
        }
      },
      "source": [
        "(precision_score(y_test, df_test[\"state\"], pos_label='successful'),\n",
        " recall_score(y_test, df_test[\"state\"], pos_label='successful'))"
      ],
      "execution_count": 0,
      "outputs": [
        {
          "output_type": "execute_result",
          "data": {
            "text/plain": [
              "(0.7344658024139472, 0.7648975791433892)"
            ]
          },
          "metadata": {
            "tags": []
          },
          "execution_count": 59
        }
      ]
    },
    {
      "cell_type": "code",
      "metadata": {
        "id": "jIrXjOv63h_f",
        "colab_type": "code",
        "outputId": "b63d708c-61bd-4594-db79-69cc4d20853e",
        "colab": {
          "base_uri": "https://localhost:8080/",
          "height": 35
        }
      },
      "source": [
        "(precision_score(y_test, df_test[\"state\"], pos_label='failed'),\n",
        " recall_score(y_test, df_test[\"state\"], pos_label='failed'))"
      ],
      "execution_count": 0,
      "outputs": [
        {
          "output_type": "execute_result",
          "data": {
            "text/plain": [
              "(0.6292217327459618, 0.5906271536871124)"
            ]
          },
          "metadata": {
            "tags": []
          },
          "execution_count": 60
        }
      ]
    },
    {
      "cell_type": "markdown",
      "metadata": {
        "id": "eeLYwGPQ0_Vg",
        "colab_type": "text"
      },
      "source": [
        "### Decision Tree Classifier"
      ]
    },
    {
      "cell_type": "code",
      "metadata": {
        "id": "OP84K0PM464k",
        "colab_type": "code",
        "colab": {}
      },
      "source": [
        "features = ['goal', 'Amount of Time Live', 'Parent Category',\n",
        "                       'staff_pick']\n",
        "X_train = df_projects[features]\n",
        "y_train = df_projects['state']\n",
        "X_test = df_test[features]\n",
        "\n",
        "ct = make_column_transformer(\n",
        "        (OneHotEncoder(), ['Parent Category', 'staff_pick']),\n",
        "        remainder=\"passthrough\"  \n",
        "      )\n",
        "decisiontree_model = make_pipeline(\n",
        "            ct,\n",
        "            StandardScaler(with_mean=False),\n",
        "            DecisionTreeClassifier(max_depth=15)\n",
        "          )\n",
        "\n",
        "decisiontree_model.fit(X=X_train, y=y_train)\n",
        "y_test = decisiontree_model.predict(X_test)"
      ],
      "execution_count": 0,
      "outputs": []
    },
    {
      "cell_type": "code",
      "metadata": {
        "id": "IY6YIbdC5JEF",
        "colab_type": "code",
        "colab": {}
      },
      "source": [
        "df_results = pd.DataFrame({\"y_test\":y_test, \"y_actual\": df_test[\"state\"]})"
      ],
      "execution_count": 0,
      "outputs": []
    },
    {
      "cell_type": "code",
      "metadata": {
        "id": "EEdT8s0i5NmK",
        "colab_type": "code",
        "outputId": "ae28b935-dac3-439f-d647-b480841647e2",
        "colab": {
          "base_uri": "https://localhost:8080/",
          "height": 35
        }
      },
      "source": [
        "(precision_score(y_test, df_test[\"state\"], pos_label='successful'),\n",
        " recall_score(y_test, df_test[\"state\"], pos_label='successful'))"
      ],
      "execution_count": 0,
      "outputs": [
        {
          "output_type": "execute_result",
          "data": {
            "text/plain": [
              "(0.7621814930710773, 0.7656039515042659)"
            ]
          },
          "metadata": {
            "tags": []
          },
          "execution_count": 63
        }
      ]
    },
    {
      "cell_type": "code",
      "metadata": {
        "id": "jrPEXYFb5PsH",
        "colab_type": "code",
        "outputId": "e955a456-4961-46e2-df94-01490ad1c14e",
        "colab": {
          "base_uri": "https://localhost:8080/",
          "height": 35
        }
      },
      "source": [
        "(precision_score(y_test, df_test[\"state\"], pos_label='failed'),\n",
        " recall_score(y_test, df_test[\"state\"], pos_label='failed'))"
      ],
      "execution_count": 0,
      "outputs": [
        {
          "output_type": "execute_result",
          "data": {
            "text/plain": [
              "(0.6167400881057269, 0.6122448979591837)"
            ]
          },
          "metadata": {
            "tags": []
          },
          "execution_count": 64
        }
      ]
    },
    {
      "cell_type": "markdown",
      "metadata": {
        "id": "HmRi6twp6zzl",
        "colab_type": "text"
      },
      "source": [
        "## **Results**"
      ]
    },
    {
      "cell_type": "markdown",
      "metadata": {
        "id": "8zL0zOC-7Dn3",
        "colab_type": "text"
      },
      "source": [
        "**Ada Boost Results:**\n",
        "\n",
        "\n",
        "*   Features: ['goal', 'Amount of Time Live', 'Parent Category', 'staff_pick', 'country']\n",
        "*   Precision for successful: 0.8189539561913277\n",
        "*   Recall for successful: 0.7739754964089565\n",
        "*   Precision for failed: 0.6071953010279001\n",
        "*   Recall for failed: 0.6712662337662337\n",
        "\n"
      ]
    },
    {
      "cell_type": "markdown",
      "metadata": {
        "id": "f6xgJb1W7_bV",
        "colab_type": "text"
      },
      "source": [
        "**KNeighbors Results:**\n",
        "\n",
        "\n",
        "*   Features: ['goal', 'Amount of Time Live', 'Parent Category', 'staff_pick', 'country']\n",
        "*   K = 18\n",
        "*   Precision for successful: 0.7344658024139472\n",
        "*   Recall for successful: 0.7648975791433892\n",
        "*   Precision for failed: 0.6292217327459618\n",
        "*   Recall for failed: 0.5906271536871124\n",
        "\n"
      ]
    },
    {
      "cell_type": "markdown",
      "metadata": {
        "id": "xl_J0khR8AKV",
        "colab_type": "text"
      },
      "source": [
        "**Decision Tree Results:**\n",
        "\n",
        "\n",
        "*   Features: ['goal', 'Amount of Time Live', 'Parent Category', 'staff_pick']\n",
        "*   max_depth = 15\n",
        "*   Precision for successful: 0.7621814930710773 \n",
        "*   Recall for successful: 0.7656039515042659\n",
        "*   Precision for failed: 0.6167400881057269\n",
        "*   Recall for failed: 0.6122448979591837\n",
        "\n"
      ]
    },
    {
      "cell_type": "markdown",
      "metadata": {
        "id": "V8f6mt-w8DDf",
        "colab_type": "text"
      },
      "source": [
        "**Overall Results:**\n",
        "\n",
        "\n",
        "*   Ada Boost Classifier has the best F1 score for both successful and recall\n",
        "\n"
      ]
    }
  ]
}